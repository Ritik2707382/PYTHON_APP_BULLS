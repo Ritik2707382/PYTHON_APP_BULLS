{
  "nbformat": 4,
  "nbformat_minor": 0,
  "metadata": {
    "colab": {
      "provenance": []
    },
    "kernelspec": {
      "name": "python3",
      "display_name": "Python 3"
    },
    "language_info": {
      "name": "python"
    }
  },
  "cells": [
    {
      "cell_type": "code",
      "execution_count": 1,
      "metadata": {
        "colab": {
          "base_uri": "https://localhost:8080/"
        },
        "id": "meNT7SQitOzY",
        "outputId": "01119d1f-95f9-48a4-acb1-8399751f386e"
      },
      "outputs": [
        {
          "output_type": "stream",
          "name": "stdout",
          "text": [
            "Enter the First Number entered by the user:2\n",
            "First Number: 2\n",
            "Enter the Second Number entered by the user:5\n",
            "Second Number 5\n",
            "Enter the Third Number entered by the user:10\n",
            "Third Number 10\n",
            "num3 is largest\n"
          ]
        }
      ],
      "source": [
        "num1=int(input(\"Enter the First Number entered by the user:\"))\n",
        "print(\"First Number:\",num1)\n",
        "num2=int(input(\"Enter the Second Number entered by the user:\"))\n",
        "print(\"Second Number\",num2)\n",
        "num3=int(input(\"Enter the Third Number entered by the user:\"))\n",
        "print(\"Third Number\",num3)\n",
        "if(num1>num2 and num1>num3):\n",
        "  print('num1 is largest')\n",
        "elif(num2>num3 and num2>num1):\n",
        "  print('num2 is largest')\n",
        "else:\n",
        "  print('num3 is largest')"
      ]
    }
  ]
}