{
  "nbformat": 4,
  "nbformat_minor": 0,
  "metadata": {
    "colab": {
      "provenance": []
    },
    "kernelspec": {
      "name": "python3",
      "display_name": "Python 3"
    },
    "language_info": {
      "name": "python"
    }
  },
  "cells": [
    {
      "cell_type": "code",
      "execution_count": 22,
      "metadata": {
        "colab": {
          "base_uri": "https://localhost:8080/"
        },
        "id": "pmfcQFCancxR",
        "outputId": "1564a968-314b-458e-c1eb-a3f5b3344e18"
      },
      "outputs": [
        {
          "output_type": "stream",
          "name": "stdout",
          "text": [
            "Enter the Number:7\n",
            "2 is prime number\n",
            "3 is prime number\n",
            "4 is not prime number\n",
            "5 is prime number\n",
            "6 is not prime number\n"
          ]
        }
      ],
      "source": [
        "num=int(input(\"Enter the Number:\"))\n",
        "i=2\n",
        "flag=False\n",
        "while(i<num):\n",
        "  for k in range(2,i-1):\n",
        "    if(i%k==0):\n",
        "      flag=True\n",
        "      break\n",
        "  if flag:\n",
        "    print(i,\"is not prime number\")\n",
        "    flag=False\n",
        "  else:\n",
        "    print(i,\"is prime number\")\n",
        "  i=i+1"
      ]
    }
  ]
}