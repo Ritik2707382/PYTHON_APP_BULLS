{
  "nbformat": 4,
  "nbformat_minor": 0,
  "metadata": {
    "colab": {
      "provenance": []
    },
    "kernelspec": {
      "name": "python3",
      "display_name": "Python 3"
    },
    "language_info": {
      "name": "python"
    }
  },
  "cells": [
    {
      "cell_type": "code",
      "execution_count": 1,
      "metadata": {
        "colab": {
          "base_uri": "https://localhost:8080/"
        },
        "id": "nEjGK3bPI-bp",
        "outputId": "2ad8625e-7750-4b38-dde2-f4b1c6df9aff"
      },
      "outputs": [
        {
          "output_type": "stream",
          "name": "stdout",
          "text": [
            "0 1 2 3 4 5 6 7 8 9 10 "
          ]
        }
      ],
      "source": [
        "i=0\n",
        "while(i<=10):\n",
        "  print(i,end=\" \")\n",
        "  i=i+1"
      ]
    }
  ]
}