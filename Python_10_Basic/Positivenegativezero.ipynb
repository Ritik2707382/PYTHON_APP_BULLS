{
  "nbformat": 4,
  "nbformat_minor": 0,
  "metadata": {
    "colab": {
      "provenance": []
    },
    "kernelspec": {
      "name": "python3",
      "display_name": "Python 3"
    },
    "language_info": {
      "name": "python"
    }
  },
  "cells": [
    {
      "cell_type": "code",
      "source": [
        "num=float(input(\"Enter the Numbers entered by the user:\"))\n",
        "print(\"num:\",num)\n",
        "if(num>0):\n",
        "  print(\"Number is Positive\")\n",
        "elif(num<0):\n",
        "  print(\"Number is Negative\")\n",
        "else:\n",
        "  print(\"Number is Zero\")"
      ],
      "metadata": {
        "colab": {
          "base_uri": "https://localhost:8080/"
        },
        "id": "nVW70HDvodQ4",
        "outputId": "c8cbe923-bb3d-4590-fe18-e9aa05fefd2b"
      },
      "execution_count": 27,
      "outputs": [
        {
          "output_type": "stream",
          "name": "stdout",
          "text": [
            "Enter the Numbers entered by the user:-95.32\n",
            "num: -95.32\n",
            "Number is Negative\n"
          ]
        }
      ]
    }
  ]
}