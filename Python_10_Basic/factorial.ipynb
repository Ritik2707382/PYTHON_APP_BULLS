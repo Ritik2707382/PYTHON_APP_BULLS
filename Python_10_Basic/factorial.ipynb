{
  "nbformat": 4,
  "nbformat_minor": 0,
  "metadata": {
    "colab": {
      "provenance": []
    },
    "kernelspec": {
      "name": "python3",
      "display_name": "Python 3"
    },
    "language_info": {
      "name": "python"
    }
  },
  "cells": [
    {
      "cell_type": "code",
      "execution_count": 6,
      "metadata": {
        "colab": {
          "base_uri": "https://localhost:8080/"
        },
        "id": "ioSKM4B0NRLH",
        "outputId": "a49356b1-d16a-4649-9515-041060ea3b17"
      },
      "outputs": [
        {
          "output_type": "stream",
          "name": "stdout",
          "text": [
            "Enter the number:5\n",
            "120\n"
          ]
        }
      ],
      "source": [
        "fact=1\n",
        "num=int(input(\"Enter the number:\"))\n",
        "while(num>0):\n",
        "  fact=fact*num\n",
        "  num=num-1\n",
        "print(fact)"
      ]
    }
  ]
}