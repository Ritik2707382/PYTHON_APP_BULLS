{
  "nbformat": 4,
  "nbformat_minor": 0,
  "metadata": {
    "colab": {
      "provenance": []
    },
    "kernelspec": {
      "name": "python3",
      "display_name": "Python 3"
    },
    "language_info": {
      "name": "python"
    }
  },
  "cells": [
    {
      "cell_type": "code",
      "execution_count": 4,
      "metadata": {
        "id": "6Jf9IY8-JywI",
        "colab": {
          "base_uri": "https://localhost:8080/"
        },
        "outputId": "71727c6a-a8b5-4666-fae6-4a881c8926c1"
      },
      "outputs": [
        {
          "output_type": "stream",
          "name": "stdout",
          "text": [
            "Enter the Number:5\n",
            "5\n",
            "10\n",
            "15\n",
            "20\n",
            "25\n",
            "30\n",
            "35\n",
            "40\n",
            "45\n",
            "50\n"
          ]
        }
      ],
      "source": [
        "i=1\n",
        "num=int(input(\"Enter the Number:\"))\n",
        "while(i<=10):\n",
        "  mul=i*num\n",
        "  print(mul)\n",
        "  i=i+1\n"
      ]
    }
  ]
}