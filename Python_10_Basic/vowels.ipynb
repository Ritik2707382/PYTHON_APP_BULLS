{
  "nbformat": 4,
  "nbformat_minor": 0,
  "metadata": {
    "colab": {
      "provenance": []
    },
    "kernelspec": {
      "name": "python3",
      "display_name": "Python 3"
    },
    "language_info": {
      "name": "python"
    }
  },
  "cells": [
    {
      "cell_type": "code",
      "execution_count": 15,
      "metadata": {
        "colab": {
          "base_uri": "https://localhost:8080/"
        },
        "id": "MK8EKTLZTZxe",
        "outputId": "e274b2c3-e368-455d-be1e-d5abfa84f931"
      },
      "outputs": [
        {
          "output_type": "stream",
          "name": "stdout",
          "text": [
            "Enter the string:apple\n",
            "Total Number of Vowels: 2\n"
          ]
        }
      ],
      "source": [
        "s=input(\"Enter the string:\")\n",
        "count=0\n",
        "for i in s:\n",
        "  if(i=='a'or i=='e' or i=='i' or i=='o' or i=='u'):\n",
        "    count=count+1\n",
        "if(count==0):\n",
        "  print(\"No Vowels Found\")\n",
        "else:\n",
        "  print(\"Total Number of Vowels:\",count)"
      ]
    }
  ]
}