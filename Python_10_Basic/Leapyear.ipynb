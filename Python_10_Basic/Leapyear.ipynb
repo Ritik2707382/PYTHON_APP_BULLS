{
  "nbformat": 4,
  "nbformat_minor": 0,
  "metadata": {
    "colab": {
      "provenance": []
    },
    "kernelspec": {
      "name": "python3",
      "display_name": "Python 3"
    },
    "language_info": {
      "name": "python"
    }
  },
  "cells": [
    {
      "cell_type": "code",
      "execution_count": null,
      "metadata": {
        "id": "ub2s3RpbvaeX"
      },
      "outputs": [],
      "source": [
        "year=int(input(\"Enter the year:\"))\n",
        "print(\"Year:\",year)\n",
        "if(year%400==0 or year%100!=0 and year%4==0):\n",
        "  print(\"This year is a Leap Year\")\n",
        "else:\n",
        "  print(\"This year is not a Leap Year\")"
      ]
    }
  ]
}